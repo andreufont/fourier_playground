{
 "cells": [
  {
   "cell_type": "markdown",
   "id": "6866af1b-31c7-42a8-87fb-f1e8c173cea7",
   "metadata": {},
   "source": [
    "# Towards a first measurement of PX from the fluctuations in mocks\n",
    "\n",
    "Let's start simple, by just measuring PX in one redshift bin, using pixels within the same HEALPix pixel"
   ]
  },
  {
   "cell_type": "code",
   "execution_count": 1,
   "id": "4cb34dc0-ba16-45a5-8403-87414bfd3842",
   "metadata": {},
   "outputs": [],
   "source": [
    "import numpy as np\n",
    "from tqdm import tqdm\n",
    "from astropy.io import fits\n",
    "import matplotlib.pyplot as plt"
   ]
  },
  {
   "cell_type": "markdown",
   "id": "e2fe5786-859f-47b5-9822-38c3b9e13ffd",
   "metadata": {},
   "source": [
    "### Define the FFT grid associated to a given redshift bin"
   ]
  },
  {
   "cell_type": "code",
   "execution_count": 2,
   "id": "e284a746-ed78-4263-a6f6-a533c687d578",
   "metadata": {},
   "outputs": [],
   "source": [
    "# rest-frame wavelength of Lya (Angstroms)\n",
    "lam_lya=1215.67\n",
    "# DESI pixel width in Angstroms\n",
    "pw_A=0.8"
   ]
  },
  {
   "cell_type": "code",
   "execution_count": 3,
   "id": "df1953d5-999c-4d00-ab40-9df3cd24e237",
   "metadata": {},
   "outputs": [
    {
     "name": "stdout",
     "output_type": "stream",
     "text": [
      "3200.00 < lambda < 7200.00 [A]\n",
      "1.632 < z < 4.923\n"
     ]
    }
   ],
   "source": [
    "# First define the official DESI wavelength grid (all wavelengths that we could possibly care about)\n",
    "wave_desi_N=5000\n",
    "# I know for sure that there is a pixel at 3600A, so let's make sure we cover that one\n",
    "wave_desi_min=3600-500*pw_A \n",
    "wave_desi_max=wave_desi_min+wave_desi_N*pw_A\n",
    "print('{:.2f} < lambda < {:.2f} [A]'.format(wave_desi_min, wave_desi_max))\n",
    "print('{:.3f} < z < {:.3f}'.format(wave_desi_min/lam_lya-1, wave_desi_max/lam_lya-1))\n",
    "wave_desi=np.linspace(wave_desi_min,wave_desi_max,wave_desi_N+1)"
   ]
  },
  {
   "cell_type": "markdown",
   "id": "4569675b-e126-4ce8-b56b-6c06988eeb5b",
   "metadata": {},
   "source": [
    "Now, for every redshift bin, let's figure out which of the pixels above are covered by its FFT grid, and which weights do they receive"
   ]
  },
  {
   "cell_type": "code",
   "execution_count": 4,
   "id": "4003e375-b358-4ab8-bd54-c681ca3322c7",
   "metadata": {},
   "outputs": [
    {
     "name": "stdout",
     "output_type": "stream",
     "text": [
      "3890.144 4133.278 4376.412\n",
      "3724.0 < lambda < 4542.4\n"
     ]
    }
   ],
   "source": [
    "z_alpha=2.4\n",
    "dz=0.4\n",
    "# figure out the center of the bin and its edges, in observed wavelength\n",
    "lam_cen=lam_lya*(1+z_alpha)\n",
    "lam_min=lam_lya*(1+z_alpha-0.5*dz)\n",
    "lam_max=lam_lya*(1+z_alpha+0.5*dz)\n",
    "print(lam_min,lam_cen,lam_max)\n",
    "# the FFT grid will have a fixed length of pixels (1024)\n",
    "N_fft=1024\n",
    "#N_fft_2=1024//2\n",
    "# figure out the index of the global (desi) grid that is closer to the center of the redshift bin\n",
    "i_cen=round((lam_cen-wave_desi_min)/pw_A)\n",
    "wave_fft_grid=wave_desi[i_cen-N_fft//2:i_cen+N_fft//2]\n",
    "print(wave_fft_grid[0],'< lambda <',wave_fft_grid[-1])"
   ]
  },
  {
   "cell_type": "code",
   "execution_count": 5,
   "id": "963448c9-0873-41b2-a092-437ee27f52f9",
   "metadata": {},
   "outputs": [
    {
     "name": "stdout",
     "output_type": "stream",
     "text": [
      "512 512\n",
      "208 816\n"
     ]
    }
   ],
   "source": [
    "mask_fft_grid=np.ones(N_fft)\n",
    "# while we use i to refer to indices in the global (desi) grid, we use j to refer to the FFT grid of this redshift\n",
    "j_cen=round((lam_cen-wave_fft_grid[0])/pw_A)\n",
    "# this should alway be N_fft/2\n",
    "print(j_cen, N_fft//2)\n",
    "# figure out the indices (in the FFT grid) that fall within the redshift bin (top hat binning)\n",
    "j_min=round((lam_min-wave_fft_grid[0])/pw_A)\n",
    "j_max=round((lam_max-wave_fft_grid[0])/pw_A)\n",
    "print(j_min,j_max)\n",
    "mask_fft_grid[:j_min]=0\n",
    "mask_fft_grid[j_max:]=0"
   ]
  },
  {
   "cell_type": "markdown",
   "id": "febd26a8-088d-402e-a827-b4434569c0ab",
   "metadata": {},
   "source": [
    "Now read an example delta field"
   ]
  },
  {
   "cell_type": "code",
   "execution_count": 6,
   "id": "ca8a25c4-e16a-45cf-af06-b94db50b74af",
   "metadata": {},
   "outputs": [],
   "source": [
    "deltas_path='/global/cfs/cdirs/desi/science/lya/mock_analysis/develop/ifae-ql/qq_desi_y3/v1.0.5/analysis-0/jura-124/raw_bao_unblinding/deltas_lya/Delta/'\n",
    "delta_file=deltas_path+'delta-500.fits.gz'\n",
    "file = fits.open(delta_file)"
   ]
  },
  {
   "cell_type": "code",
   "execution_count": 7,
   "id": "c7ce82af-84e6-4c61-992c-1bb76b88d91c",
   "metadata": {},
   "outputs": [
    {
     "name": "stdout",
     "output_type": "stream",
     "text": [
      "0 read\n",
      "100 read\n",
      "200 read\n",
      "300 read\n",
      "400 read\n",
      "500 read\n",
      "600 read\n",
      "700 read\n",
      "800 read\n",
      "900 read\n",
      "1000 read\n"
     ]
    }
   ],
   "source": [
    "skewers=[]\n",
    "for hdu in file[1:]:\n",
    "    if len(skewers)%100==0:\n",
    "        print(len(skewers),'read')\n",
    "    # quasar meta data\n",
    "    z_qso=hdu.header['Z']\n",
    "    # angles in radians\n",
    "    RA=hdu.header['RA']\n",
    "    Dec=hdu.header['DEC']\n",
    "    skewer={'z_qso':z_qso, 'RA':RA, 'Dec':Dec}\n",
    "    # forest data\n",
    "    wave_data=10.0**(hdu.data['LOGLAM'])\n",
    "    delta_data=hdu.data['DELTA']\n",
    "    weight_data=hdu.data['WEIGHT']\n",
    "    # correct the weights so that they are constant in redshift (for the raw analysis only)\n",
    "    weight_data *= (wave_data/4500)**3.8\n",
    "    skewer['wave_data']=wave_data\n",
    "    skewer['delta_data']=delta_data\n",
    "    skewer['weight_data']=weight_data\n",
    "    skewers.append(skewer)"
   ]
  },
  {
   "cell_type": "code",
   "execution_count": 8,
   "id": "5b06b816-0114-4f11-a9f9-ba4b170e1431",
   "metadata": {},
   "outputs": [
    {
     "name": "stdout",
     "output_type": "stream",
     "text": [
      "processed skewer 0\n",
      "processed skewer 100\n",
      "processed skewer 200\n",
      "processed skewer 300\n",
      "processed skewer 400\n",
      "processed skewer 500\n",
      "processed skewer 600\n",
      "processed skewer 700\n",
      "processed skewer 800\n",
      "processed skewer 900\n",
      "processed skewer 1000\n"
     ]
    }
   ],
   "source": [
    "# Map the observed spectrum to the FFT grid for this particular redhsift bin\n",
    "for iq, skewer in enumerate(skewers):\n",
    "    if iq%100==0:\n",
    "        print('processed skewer',iq)\n",
    "        \n",
    "    wave_data=skewer['wave_data']\n",
    "    delta_data=skewer['delta_data']\n",
    "    weight_data=skewer['weight_data']\n",
    "    \n",
    "    j_min_data=round((wave_data[0]-wave_fft_grid[0])/pw_A)\n",
    "    j_max_data=round((wave_data[-1]-wave_fft_grid[0])/pw_A)\n",
    "    \n",
    "    # map the data deltas and weights into the FFT grid\n",
    "    delta_fft_grid=np.zeros(N_fft)\n",
    "    weight_fft_grid=np.zeros(N_fft)\n",
    "    \n",
    "    # figure out whether the spectrum is cut at low-z or at high-z\n",
    "    loz_cut=False\n",
    "    hiz_cut=False\n",
    "    if j_min_data < 0:\n",
    "        loz_cut=True\n",
    "        if j_max_data >=0:\n",
    "            delta_fft_grid[:j_max_data]=delta_data[-j_min_data+1:]\n",
    "            weight_fft_grid[:j_max_data]=weight_data[-j_min_data+1:]\n",
    "    if j_max_data >= N_fft:\n",
    "        hiz_cut=True\n",
    "        if j_min_data < N_fft:\n",
    "            delta_fft_grid[j_min_data:]=delta_data[:N_fft-j_max_data-1]\n",
    "            weight_fft_grid[j_min_data:]=weight_data[:N_fft-j_max_data-1]\n",
    "    if loz_cut==False and hiz_cut==False:\n",
    "        delta_fft_grid[j_min_data:j_max_data+1]=delta_data\n",
    "        weight_fft_grid[j_min_data:j_max_data+1]=weight_data\n",
    "\n",
    "    # limit the data to the pixels within this redshift bin\n",
    "    weight_fft_grid *= mask_fft_grid\n",
    "    \n",
    "    # store relevant information\n",
    "    skewer['j_min_data']=j_min_data\n",
    "    skewer['j_max_data']=j_max_data\n",
    "    skewer['delta_fft_grid']=delta_fft_grid\n",
    "    skewer['weight_fft_grid']=weight_fft_grid"
   ]
  },
  {
   "cell_type": "code",
   "execution_count": 9,
   "id": "6677ca49-5f41-402a-99cc-6c395e466c2d",
   "metadata": {},
   "outputs": [
    {
     "data": {
      "image/png": "[encoded data removed]",
      "text/plain": [
       "<Figure size 640x480 with 1 Axes>"
      ]
     },
     "metadata": {},
     "output_type": "display_data"
    }
   ],
   "source": [
    "for skewer in skewers[:5]:\n",
    "#    plt.plot(wave_fft_grid,skewer['delta_fft_grid']*mask_fft_grid)\n",
    "    plt.plot(wave_fft_grid,skewer['weight_fft_grid'])"
   ]
  },
  {
   "cell_type": "markdown",
   "id": "eb85bc87-3e9e-47b5-b191-d1b397892c03",
   "metadata": {},
   "source": [
    "### Measure P1D from the skewers in the HEALPix pixel"
   ]
  },
  {
   "cell_type": "code",
   "execution_count": 10,
   "id": "f9e488b5-e8c2-4dc9-8985-e6e1daab5c8d",
   "metadata": {},
   "outputs": [],
   "source": [
    "# measure P1D and variance ( F_m = < |f_m|^2 >)\n",
    "F_m=np.zeros(N_fft)\n",
    "var_F_m=np.zeros(N_fft)\n",
    "# mean of |w_m|^2 (FFT of mask, squared)\n",
    "w2_m=np.zeros(N_fft)"
   ]
  },
  {
   "cell_type": "code",
   "execution_count": 11,
   "id": "43e2a51d-273b-4a4c-a123-51db0863e6e7",
   "metadata": {},
   "outputs": [
    {
     "name": "stderr",
     "output_type": "stream",
     "text": [
      "100%|██████████| 1093/1093 [00:00<00:00, 33331.21it/s]\n"
     ]
    }
   ],
   "source": [
    "for skewer in tqdm(skewers):\n",
    "    weights=skewer['weight_fft_grid']\n",
    "    deltas=skewer['delta_fft_grid']\n",
    "\n",
    "    # FFT of mask\n",
    "    w_m = np.fft.fft(weights)\n",
    "    w2_m += abs(w_m)**2\n",
    "    # FFT the product of deltas and weights\n",
    "    f_m=np.fft.fft(deltas*weights)\n",
    "    # dimensionless P1D\n",
    "    p1d = abs(f_m)**2\n",
    "    F_m += p1d\n",
    "    var_F_m += p1d**2"
   ]
  },
  {
   "cell_type": "code",
   "execution_count": 12,
   "id": "d0af898e-b3a0-4ed1-bc29-b676b1b20460",
   "metadata": {},
   "outputs": [],
   "source": [
    "Nsk=len(skewers)\n",
    "# normalize mask\n",
    "w2_m /= Nsk\n",
    "# normalize them\n",
    "F_m /= Nsk\n",
    "var_F_m /= Nsk\n",
    "var_F_m -= F_m**2\n",
    "# correct normalisation based on my notes\n",
    "mean_p1d = (pw_A/N_fft) * F_m\n",
    "err_p1d = (pw_A/N_fft) * np.sqrt(var_F_m/Nsk)"
   ]
  },
  {
   "cell_type": "code",
   "execution_count": 13,
   "id": "d62c80a3-d001-457a-9de9-12a04c5300d3",
   "metadata": {},
   "outputs": [
    {
     "data": {
      "text/plain": [
       "[<matplotlib.lines.Line2D at 0x7fa5fab8af50>]"
      ]
     },
     "execution_count": 13,
     "metadata": {},
     "output_type": "execute_result"
    },
    {
     "data": {
      "image/png": "[encoded data removed]",
      "text/plain": [
       "<Figure size 640x480 with 1 Axes>"
      ]
     },
     "metadata": {},
     "output_type": "display_data"
    }
   ],
   "source": [
    "k_A = np.fft.fftfreq(N_fft)*2*np.pi/pw_A\n",
    "plt.plot(k_A[:N_fft//2], mean_p1d[:N_fft//2])"
   ]
  },
  {
   "cell_type": "markdown",
   "id": "6552c91c-c2c9-4c0d-a866-7976893bb8b9",
   "metadata": {},
   "source": [
    "### Measure PX from the skewers in the HEALPix pixel, averaged over a range of angular separations"
   ]
  },
  {
   "cell_type": "code",
   "execution_count": 14,
   "id": "8027927c-124f-483b-a765-d3981a855ac7",
   "metadata": {},
   "outputs": [],
   "source": [
    "def angular_separation(ra1, dec1, ra2, dec2):\n",
    "    # Calculate the difference in right ascension\n",
    "    delta_ra = ra2 - ra1\n",
    "    \n",
    "    # Apply the formula for angular separation\n",
    "    angular_distance = np.arccos(np.sin(dec1) * np.sin(dec2) +\n",
    "                                 np.cos(dec1) * np.cos(dec2) * np.cos(delta_ra))\n",
    "    \n",
    "    return angular_distance"
   ]
  },
  {
   "cell_type": "code",
   "execution_count": 15,
   "id": "5e0b9b17-16a5-4e07-b716-fb7c51c0da62",
   "metadata": {},
   "outputs": [
    {
     "name": "stdout",
     "output_type": "stream",
     "text": [
      "0.0017453292519943296 < ang_deg < 0.005235987755982988\n"
     ]
    },
    {
     "name": "stderr",
     "output_type": "stream",
     "text": [
      "100%|██████████| 1092/1092 [00:03<00:00, 321.24it/s]"
     ]
    },
    {
     "name": "stdout",
     "output_type": "stream",
     "text": [
      "Np = 10291\n"
     ]
    },
    {
     "name": "stderr",
     "output_type": "stream",
     "text": [
      "\n"
     ]
    }
   ],
   "source": [
    "# minimum separation, in degrees\n",
    "ang_min_deg=0.1\n",
    "ang_max_deg=0.3\n",
    "ang_min=ang_min_deg*np.pi/180\n",
    "ang_max=ang_max_deg*np.pi/180\n",
    "print(ang_min,'< ang_deg <',ang_max)\n",
    "\n",
    "# measure PX \n",
    "F_m=np.zeros(N_fft)\n",
    "# mean of |w_m|^2 (FFT of mask, squared)\n",
    "# for PX this is (w_m v_m^*).real (product of FFT mask, real part only)\n",
    "w2_m=np.zeros(N_fft)\n",
    "\n",
    "# number of pairs\n",
    "Np=0\n",
    "\n",
    "for i1 in tqdm(range(1,Nsk)):\n",
    "    sk1=skewers[i1]\n",
    "    w1=sk1['weight_fft_grid']\n",
    "    d1=sk1['delta_fft_grid']\n",
    "    for i2 in range(i1):\n",
    "        sk2=skewers[i2]\n",
    "        \n",
    "        # compute angular separation, in radians\n",
    "        ang=angular_separation(sk1['RA'],sk1['Dec'],sk2['RA'],sk2['Dec'])\n",
    "        if ang<ang_min or ang>ang_max:\n",
    "            continue\n",
    "\n",
    "        Np+=1\n",
    "        # correlate Fourier modes\n",
    "        w2=sk2['weight_fft_grid']\n",
    "        d2=sk2['delta_fft_grid']\n",
    "\n",
    "        # FFT of masks\n",
    "        w_1_m = np.fft.fft(w1)\n",
    "        w_2_m = np.fft.fft(w2)\n",
    "        w2_m += (w_1_m*np.conjugate(w_2_m)).real\n",
    " \n",
    "        # and FFT again to obtain masked modes\n",
    "        f_1_m=np.fft.fft(d1*w1)\n",
    "        f_2_m=np.fft.fft(d2*w2)\n",
    "        px = (f_1_m*np.conjugate(f_2_m)).real\n",
    "        F_m += px\n",
    "\n",
    "print('Np =',Np)\n",
    "# normalize\n",
    "F_m /= w2_m\n",
    "# correct normalisation based on my notes\n",
    "mean_px = (pw_A/N_fft) * F_m"
   ]
  },
  {
   "cell_type": "code",
   "execution_count": 16,
   "id": "39483210-6a75-4828-a7ad-86d4f0e09769",
   "metadata": {},
   "outputs": [
    {
     "data": {
      "text/plain": [
       "[<matplotlib.lines.Line2D at 0x7fa5fa1f4e50>]"
      ]
     },
     "execution_count": 16,
     "metadata": {},
     "output_type": "execute_result"
    },
    {
     "data": {
      "image/png": "[encoded data removed]",
      "text/plain": [
       "<Figure size 640x480 with 1 Axes>"
      ]
     },
     "metadata": {},
     "output_type": "display_data"
    }
   ],
   "source": [
    "plt.plot(k_A[:N_fft//2], mean_px[:N_fft//2])"
   ]
  },
  {
   "cell_type": "code",
   "execution_count": null,
   "id": "4e71e257-0cee-4cd3-ab97-af961b13c99d",
   "metadata": {},
   "outputs": [],
   "source": []
  },
  {
   "cell_type": "code",
   "execution_count": null,
   "id": "6bd5f7f2-b7ed-48e0-b007-2a3de7b05c53",
   "metadata": {},
   "outputs": [],
   "source": []
  }
 ],
 "metadata": {
  "kernelspec": {
   "display_name": "NERSC Python",
   "language": "python",
   "name": "python3"
  },
  "language_info": {
   "codemirror_mode": {
    "name": "ipython",
    "version": 3
   },
   "file_extension": ".py",
   "mimetype": "text/x-python",
   "name": "python",
   "nbconvert_exporter": "python",
   "pygments_lexer": "ipython3",
   "version": "3.11.7"
  }
 },
 "nbformat": 4,
 "nbformat_minor": 5
}
